{
 "cells": [
  {
   "cell_type": "code",
   "execution_count": 44,
   "metadata": {},
   "outputs": [],
   "source": [
    "import pandas\n",
    "import trueskill\n",
    "from collections import OrderedDict\n",
    "import scipy.stats"
   ]
  },
  {
   "cell_type": "code",
   "execution_count": 54,
   "metadata": {},
   "outputs": [],
   "source": [
    "df = pandas.read_csv('dump.csv')"
   ]
  },
  {
   "cell_type": "code",
   "execution_count": 55,
   "metadata": {},
   "outputs": [
    {
     "name": "stdout",
     "output_type": "stream",
     "text": [
      "{'attention_all_layers': trueskill.Rating(mu=1.706, sigma=0.662), 'int_gradients': trueskill.Rating(mu=-1.714, sigma=0.664), 'attention_learned': trueskill.Rating(mu=4.433, sigma=0.688), 'gradient_x_input': trueskill.Rating(mu=-4.429, sigma=0.689)}\n"
     ]
    }
   ],
   "source": [
    "def learn_trueskill_ratings(df):\n",
    "    methods = df['name'].unique()\n",
    "    ratings = {method: trueskill.Rating(mu=0, sigma=0.5) for method in methods}\n",
    "\n",
    "    for _, group in df.groupby(['example_id', 'username']):\n",
    "        ranks = []\n",
    "        players = []\n",
    "        for row in group.itertuples():\n",
    "            players.append(row.name)\t\n",
    "            ranks.append(row.score - 1)\n",
    "\n",
    "        player_ratings = [(ratings[player],) for player in players]\n",
    "        \n",
    "        new_ratings = trueskill.rate(player_ratings, ranks=ranks)\n",
    "        for player, (rating,) in zip(players, new_ratings):\n",
    "            ratings[player] = rating\n",
    "    \n",
    "    return ratings\n",
    "\n",
    "ratings = learn_trueskill_ratings(df)\n",
    "print(ratings)\n",
    "\n"
   ]
  },
  {
   "cell_type": "code",
   "execution_count": 56,
   "metadata": {},
   "outputs": [
    {
     "name": "stdout",
     "output_type": "stream",
     "text": [
      "{'attention_learned': 1, 'attention_all_layers': 2, 'int_gradients': 3, 'gradient_x_input': 4}\n"
     ]
    }
   ],
   "source": [
    "def partial_ordered_ranks(ratings):\n",
    "    intervals = {}\n",
    "    for method, rating in ratings.items():\n",
    "        intervals[method] = scipy.stats.norm.interval(0.95, rating.mu, rating.sigma)\n",
    "\n",
    "    sorted_intervals = sorted(intervals.items(), key=lambda x: x[1][1], reverse=True)\n",
    "    current_rank = 0\n",
    "    prev_start = float('+inf')\n",
    "    ranks = {}\n",
    "    for method, interval in sorted_intervals:\n",
    "        if interval[1] < prev_start:\n",
    "            current_rank += 1\n",
    "\n",
    "        ranks[method] = current_rank\n",
    "        prev_start = min(prev_start, interval[0])\n",
    "        \n",
    "    return ranks\n",
    "\n",
    "partial_ranks = partial_ordered_ranks(ratings)\n",
    "print(partial_ranks)"
   ]
  },
  {
   "cell_type": "code",
   "execution_count": null,
   "metadata": {},
   "outputs": [],
   "source": []
  },
  {
   "cell_type": "code",
   "execution_count": 8,
   "metadata": {},
   "outputs": [],
   "source": [
    "\n",
    "\n",
    "\n",
    "systems = [\"a\", \"b\", \"c\"]\n",
    "rankings = OrderedDict()\n",
    "for system in systems:\n",
    "    rankings[system] = trueskill.Rating(mu=0, sigma=0.5)"
   ]
  },
  {
   "cell_type": "code",
   "execution_count": 10,
   "metadata": {},
   "outputs": [
    {
     "data": {
      "text/plain": [
       "[(trueskill.Rating(mu=0.045, sigma=0.505),),\n",
       " (trueskill.Rating(mu=-0.022, sigma=0.505),),\n",
       " (trueskill.Rating(mu=-0.022, sigma=0.505),)]"
      ]
     },
     "execution_count": 10,
     "metadata": {},
     "output_type": "execute_result"
    }
   ],
   "source": []
  }
 ],
 "metadata": {
  "interpreter": {
   "hash": "1c7f28e66474da19e85c60f662bba9cf73619e12646aa700cede8ba845851a22"
  },
  "kernelspec": {
   "display_name": "Python 3.8.10 ('meta-expl')",
   "language": "python",
   "name": "python3"
  },
  "language_info": {
   "codemirror_mode": {
    "name": "ipython",
    "version": 3
   },
   "file_extension": ".py",
   "mimetype": "text/x-python",
   "name": "python",
   "nbconvert_exporter": "python",
   "pygments_lexer": "ipython3",
   "version": "3.8.10"
  },
  "orig_nbformat": 4
 },
 "nbformat": 4,
 "nbformat_minor": 2
}
